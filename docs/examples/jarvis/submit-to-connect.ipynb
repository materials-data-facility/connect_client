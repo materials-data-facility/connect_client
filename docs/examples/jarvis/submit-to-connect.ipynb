{
 "cells": [
  {
   "cell_type": "markdown",
   "metadata": {},
   "source": [
    "# Submit Jarvis to the MDF Index\n",
    "Downloads the latest copies of Jarvis and submit them to the MDF search index. First has to modify the JSON files stored with each Jarvis calculation to a form compatible with the MDF index, which requires standardizing data types, adding some new fields, and mapping fields in the JARVIS data schema into ones defined in the MDF schema. Once complete, this notebook submits the data to MDF Connect.\n",
    "\n",
    "This notebook is designed to be run on Linux with Globus Connect Personal installed."
   ]
  },
  {
   "cell_type": "code",
   "execution_count": 1,
   "metadata": {},
   "outputs": [
    {
     "name": "stdout",
     "output_type": "stream",
     "text": [
      "Proceeding without mdf_connect_client\n"
     ]
    }
   ],
   "source": [
    "from mdf_connect_client import MDFConnectClient\n",
    "from monty.json import MontyEncoder, MontyDecoder\n",
    "from monty.serialization import loadfn, dumpfn\n",
    "from tqdm import tqdm_notebook as tqdm\n",
    "from glob import glob\n",
    "import requests\n",
    "import shutil\n",
    "import json\n",
    "import math\n",
    "import cgi\n",
    "import sys\n",
    "import os"
   ]
  },
  {
   "cell_type": "markdown",
   "metadata": {},
   "source": [
    "Settings to change"
   ]
  },
  {
   "cell_type": "code",
   "execution_count": 2,
   "metadata": {},
   "outputs": [
    {
     "name": "stdout",
     "output_type": "stream",
     "text": [
      "My Endpoint Name: 757daaa4-e697-11e8-8c9a-0a1d4c5c824a\n"
     ]
    }
   ],
   "source": [
    "with open(os.path.expanduser(os.path.join('~', '.globusonline', 'lta', 'client-id.txt'))) as fp:\n",
    "    SOURCE_UUID=fp.readline().strip()\n",
    "print('My Endpoint Name:', SOURCE_UUID)\n",
    "metadata_path = os.path.join(os.getcwd(), 'feedstock')"
   ]
  },
  {
   "cell_type": "markdown",
   "metadata": {},
   "source": [
    "Urls for the different data objects"
   ]
  },
  {
   "cell_type": "code",
   "execution_count": 3,
   "metadata": {},
   "outputs": [],
   "source": [
    "data_urls = [\n",
    "    'https://ndownloader.figshare.com/files/12468083',\n",
    "    'https://ndownloader.figshare.com/files/12394556'\n",
    "]"
   ]
  },
  {
   "cell_type": "markdown",
   "metadata": {},
   "source": [
    "## Download the Data\n",
    "Get the data from Figshare, if it hasn't been downloaded already"
   ]
  },
  {
   "cell_type": "code",
   "execution_count": 4,
   "metadata": {},
   "outputs": [],
   "source": [
    "if not os.path.isdir('data'):\n",
    "    os.mkdir('data')"
   ]
  },
  {
   "cell_type": "code",
   "execution_count": 5,
   "metadata": {},
   "outputs": [],
   "source": [
    "filenames = []\n",
    "for url in data_urls:\n",
    "    # Get file info from figshare\n",
    "    req = requests.get(url, stream=True)\n",
    "    \n",
    "    # Get the file name\n",
    "    filename = cgi.parse_header(req.headers['Content-Disposition'])[1]['filename']\n",
    "    filenames.append(os.path.join('data', filename))\n",
    "    \n",
    "    # Check if file already download, and skip if it is\n",
    "    data_path = os.path.join('data', filename)\n",
    "    if os.path.isfile(data_path):\n",
    "        continue\n",
    "        \n",
    "    # If not, download the file\n",
    "    with open(data_path, 'wb') as fp:\n",
    "        for chunk in req.iter_content(chunk_size=1024):\n",
    "            fp.write(chunk)"
   ]
  },
  {
   "cell_type": "markdown",
   "metadata": {},
   "source": [
    "## Extract Additional Information Out of Records\n",
    "Records need some additional tuning to be the most useful for the MDF index"
   ]
  },
  {
   "cell_type": "markdown",
   "metadata": {},
   "source": [
    "## Display an Example Record\n",
    "Get an idea of what we are looking at"
   ]
  },
  {
   "cell_type": "code",
   "execution_count": 6,
   "metadata": {},
   "outputs": [
    {
     "name": "stdout",
     "output_type": "stream",
     "text": [
      "{\n",
      "  \"gv\": 71.22,\n",
      "  \"mpid\": \"mp-1006883\",\n",
      "  \"encut\": 600,\n",
      "  \"icsd\": \"[187983]\",\n",
      "  \"form_enp\": 0.161,\n",
      "  \"final_str\": {\n",
      "    \"lattice\": {\n",
      "      \"a\": 2.8018838472201355,\n",
      "      \"c\": 2.8018838472201355,\n",
      "      \"b\": 2.8018838472201355,\n",
      "      \"matrix\": [\n",
      "        [\n",
      "          2.8018838472201355,\n",
      "          -0.0,\n",
      "          0.0\n",
      "        ],\n",
      "        [\n",
      "          -0.0,\n",
      "          2.8018838472201355,\n",
      "          0.0\n",
      "        ],\n",
      "        [\n",
      "          -0.0,\n",
      "          -0.0,\n",
      "          2.8018838472201355\n",
      "        ]\n",
      "      ],\n",
      "      \"volume\": 21.996337903898066,\n",
      "      \"beta\": 90.0,\n",
      "      \"gamma\": 90.0,\n",
      "      \"alpha\": 90.0\n",
      "    },\n",
      "    \"sites\": [\n",
      "      {\n",
      "        \"properties\": {\n",
      "          \"velocities\": [\n",
      "            0.0,\n",
      "            0.0,\n",
      "            0.0\n",
      "          ]\n",
      "        },\n",
      "        \"abc\": [\n",
      "          0.5,\n",
      "          0.5,\n",
      "          0.5\n",
      "        ],\n",
      "        \"xyz\": [\n",
      "          1.4009419236100678,\n",
      "          1.4009419236100678,\n",
      "          1.4009419236100678\n",
      "        ],\n",
      "        \"label\": \"Co\",\n",
      "        \"species\": [\n",
      "          {\n",
      "            \"occu\": 1,\n",
      "            \"element\": \"Co\"\n",
      "          }\n",
      "        ]\n",
      "      },\n",
      "      {\n",
      "        \"properties\": {\n",
      "          \"velocities\": [\n",
      "            0.0,\n",
      "            0.0,\n",
      "            0.0\n",
      "          ]\n",
      "        },\n",
      "        \"abc\": [\n",
      "          0.0,\n",
      "          0.0,\n",
      "          0.0\n",
      "        ],\n",
      "        \"xyz\": [\n",
      "          0.0,\n",
      "          0.0,\n",
      "          0.0\n",
      "        ],\n",
      "        \"label\": \"Ni\",\n",
      "        \"species\": [\n",
      "          {\n",
      "            \"occu\": 1,\n",
      "            \"element\": \"Ni\"\n",
      "          }\n",
      "        ]\n",
      "      }\n",
      "    ],\n",
      "    \"@class\": \"Structure\",\n",
      "    \"@module\": \"pymatgen.core.structure\"\n",
      "  },\n",
      "  \"mbj_gap\": \"na\",\n",
      "  \"fin_en\": -5.4309751,\n",
      "  \"jid\": \"JVASP-11946\",\n",
      "  \"elastic\": \"134.2,227.2,227.2,-0.0,0.0,0.0,227.2,134.2,227.2,-0.0,-0.0,-0.0,227.2,227.2,134.2,0.0,-0.0,0.0,-0.0,-0.0,0.0,149.7,0.0,0.0,0.0,-0.0,-0.0,0.0,149.7,0.0,0.0,-0.0,0.0,0.0,0.0,149.7\",\n",
      "  \"incar\": {\n",
      "    \"LVHAR\": true,\n",
      "    \"NELM\": 500,\n",
      "    \"IBRION\": 2,\n",
      "    \"PARAM2\": 0.22,\n",
      "    \"PARAM1\": 0.1833333333,\n",
      "    \"LWAVE\": false,\n",
      "    \"AGGAC\": 0.0,\n",
      "    \"ENCUT\": 600,\n",
      "    \"ISIF\": 3,\n",
      "    \"GGA\": \"Bo\",\n",
      "    \"EDIFF\": 1e-07,\n",
      "    \"LVTOT\": true,\n",
      "    \"NSW\": 500,\n",
      "    \"LCHARG\": true,\n",
      "    \"ISMEAR\": 0,\n",
      "    \"NPAR\": 4,\n",
      "    \"NEDOS\": 5000,\n",
      "    \"PREC\": \"Accurate\",\n",
      "    \"EDIFFG\": -0.001,\n",
      "    \"ISPIN\": 2,\n",
      "    \"LORBIT\": 11,\n",
      "    \"LUSE_VDW\": true\n",
      "  },\n",
      "  \"kpoints\": {\n",
      "    \"comment\": \"Automatic kpoint scheme\",\n",
      "    \"usershift\": [\n",
      "      0,\n",
      "      0,\n",
      "      0\n",
      "    ],\n",
      "    \"labels\": null,\n",
      "    \"tet_number\": 0,\n",
      "    \"tet_connections\": null,\n",
      "    \"@module\": \"pymatgen.io.vasp.inputs\",\n",
      "    \"nkpoints\": 0,\n",
      "    \"coord_type\": null,\n",
      "    \"kpts_weights\": null,\n",
      "    \"@class\": \"Kpoints\",\n",
      "    \"tet_weight\": 0,\n",
      "    \"kpoints\": [\n",
      "      [\n",
      "        23,\n",
      "        23,\n",
      "        23\n",
      "      ]\n",
      "    ],\n",
      "    \"generation_style\": \"Gamma\"\n",
      "  },\n",
      "  \"kp_leng\": 90,\n",
      "  \"epsz\": \"na\",\n",
      "  \"epsx\": \"na\",\n",
      "  \"epsy\": \"na\",\n",
      "  \"eff_mass\": {\n",
      "    \"p\": [\n",
      "      6.023889743488937e-07,\n",
      "      6.023889743488937e-07,\n",
      "      6.023889743488937e-07\n",
      "    ],\n",
      "    \"n\": [\n",
      "      6.023889743488937e-07,\n",
      "      6.023889743488937e-07,\n",
      "      6.023889743488937e-07\n",
      "    ]\n",
      "  },\n",
      "  \"op_gap\": 0.0016,\n",
      "  \"initial_str\": {\n",
      "    \"lattice\": {\n",
      "      \"a\": 2.802193,\n",
      "      \"c\": 2.802193,\n",
      "      \"b\": 2.802193,\n",
      "      \"matrix\": [\n",
      "        [\n",
      "          2.802193,\n",
      "          0.0,\n",
      "          -0.0\n",
      "        ],\n",
      "        [\n",
      "          0.0,\n",
      "          2.802193,\n",
      "          0.0\n",
      "        ],\n",
      "        [\n",
      "          -0.0,\n",
      "          0.0,\n",
      "          2.802193\n",
      "        ]\n",
      "      ],\n",
      "      \"volume\": 22.00361976823828,\n",
      "      \"beta\": 90.0,\n",
      "      \"gamma\": 90.0,\n",
      "      \"alpha\": 90.0\n",
      "    },\n",
      "    \"sites\": [\n",
      "      {\n",
      "        \"abc\": [\n",
      "          0.5,\n",
      "          0.5,\n",
      "          0.5\n",
      "        ],\n",
      "        \"xyz\": [\n",
      "          1.4010965,\n",
      "          1.4010965,\n",
      "          1.4010965\n",
      "        ],\n",
      "        \"label\": \"Co\",\n",
      "        \"species\": [\n",
      "          {\n",
      "            \"occu\": 1,\n",
      "            \"element\": \"Co\"\n",
      "          }\n",
      "        ]\n",
      "      },\n",
      "      {\n",
      "        \"abc\": [\n",
      "          0.0,\n",
      "          0.0,\n",
      "          0.0\n",
      "        ],\n",
      "        \"xyz\": [\n",
      "          0.0,\n",
      "          0.0,\n",
      "          0.0\n",
      "        ],\n",
      "        \"label\": \"Ni\",\n",
      "        \"species\": [\n",
      "          {\n",
      "            \"occu\": 1,\n",
      "            \"element\": \"Ni\"\n",
      "          }\n",
      "        ]\n",
      "      }\n",
      "    ],\n",
      "    \"@class\": \"Structure\",\n",
      "    \"@module\": \"pymatgen.core.structure\"\n",
      "  },\n",
      "  \"magmom\": {\n",
      "    \"magmom_out\": 2.278903,\n",
      "    \"magmom_osz\": 2.2789\n",
      "  },\n",
      "  \"mepsz\": \"na\",\n",
      "  \"mepsx\": \"na\",\n",
      "  \"mepsy\": \"na\",\n",
      "  \"kv\": 196.2\n",
      "}\n"
     ]
    }
   ],
   "source": [
    "with open(filenames[0], 'r') as fp:\n",
    "    ex_record = json.load(fp)[0]\n",
    "    print(json.dumps(ex_record, indent=2))"
   ]
  },
  {
   "cell_type": "markdown",
   "metadata": {},
   "source": [
    "### Build Mapping and Modify Records\n",
    "The MDF can leverage some metadata which is not specifically defined in the JARVIS metadata, but can be easily derived from the metadata. We also need to make the data types in some fields consistant to work best with Globus Search. Finally, we need to establish a mapping between the JARVIS and MDF schemas"
   ]
  },
  {
   "cell_type": "code",
   "execution_count": 7,
   "metadata": {},
   "outputs": [],
   "source": [
    "def standardize_field(d, field, convert):\n",
    "    \"\"\"Convert a field in a dictionary to a certain type. If it doesn't convert, remove it\n",
    "    \n",
    "    Also makes sure the result is finite (JSON does not support NaNs or infs)\n",
    "    \n",
    "    Args:\n",
    "        d (dict): Dictionary to convert\n",
    "        field ([string]): Path to field to convert\n",
    "        convert (function): Conversion function\n",
    "    \"\"\"\n",
    "    \n",
    "    # If the first field isn't there, skip\n",
    "    if field[0] not in d:\n",
    "        return\n",
    "    \n",
    "    if len(field) == 1:\n",
    "        if field[0] not in d:\n",
    "            return\n",
    "        \n",
    "        # Attempt to convert the field\n",
    "        try:\n",
    "            new_value = convert(d[field[0]])\n",
    "            \n",
    "            # Check if the value is finite\n",
    "            if isinstance(new_value, (float, int)) and not math.isfinite(new_value):\n",
    "                del d[field[0]]\n",
    "            else:\n",
    "                d[field[0]] = new_value\n",
    "        except:\n",
    "            del d[field[0]]\n",
    "    else:\n",
    "        # Step a level down\n",
    "        standardize_field(d[field[0]], field[1:], convert)\n",
    "d = {'a': {'b': '1'}}\n",
    "standardize_field(d, ['a', 'b'], int)\n",
    "assert isinstance(d['a']['b'], int)"
   ]
  },
  {
   "cell_type": "markdown",
   "metadata": {},
   "source": [
    "Make a list of mappings for existing JARVIS fields. `__custom` fields will be mapped to the name \"jarvis\". "
   ]
  },
  {
   "cell_type": "code",
   "execution_count": 8,
   "metadata": {},
   "outputs": [],
   "source": [
    "mapping = {\n",
    "    '__custom.id': 'jid',\n",
    "    '__custom.crossreference.materials_project': 'mpid',\n",
    "    'crystal_structure.volume': 'final_str.volume',\n",
    "    'dft.cutoff_energy': 'incar.ENCUT',\n",
    "    '__custom.bandgap.mbj': 'mbj_gap',\n",
    "    '__custom.bandgap.optb88vdw': 'op_gap',\n",
    "    '__custom.formation_enthalpy': 'form_enp',\n",
    "    '__custom.elastic_moduli.bulk': 'kv',\n",
    "    '__custom.elastic_moduli.shear': 'gv',\n",
    "    '__custom.dimensionality': 'dimensionality',\n",
    "    '__custom.total_energy': 'fin_en',\n",
    "    '__custom.landing_page': 'landing_page'\n",
    "}"
   ]
  },
  {
   "cell_type": "code",
   "execution_count": 9,
   "metadata": {},
   "outputs": [],
   "source": [
    "def construct_mdf_record(d, is_2d):\n",
    "    \"\"\"Given a JSON object from Jarvis, extract some extra data and ensure mapped fields are all the same type\n",
    "    \n",
    "    Schema is designed to be similar to that of the OQMD.\n",
    "    \n",
    "    Args:\n",
    "        d (dict): Record to be converted\n",
    "        is_2d (bool): Wether we are converting the 2d dataset\n",
    "    Returns: (dict) MDF record\"\"\"\n",
    "\n",
    "    # Records that are used multiple times\n",
    "    comp = d['initial_str'].composition.get_integer_formula_and_factor()[0]\n",
    "    \n",
    "    # Make sure all the mappings are consistant\n",
    "    for m in mapping.values():\n",
    "        if m not in ['jid', 'mpid', 'final_str.volume']:  # Do not require retouching\n",
    "            standardize_field(d, m.split(\".\"), float)\n",
    "            \n",
    "    # Add in the dimensionality\n",
    "    d['dimensionality'] = '2d' if is_2d else '3d'\n",
    "    d['landing_page'] = \"https://www.ctcms.nist.gov/~knc6/jsmol/%s.html\"%d['jid']\n",
    "    \n",
    "    \n",
    "    # Add additional metadata for the MDF\n",
    "    d['mdf'] = {\n",
    "        \"dft\": {\n",
    "            \"converged\": True,\n",
    "        },\n",
    "        \"material\": {\n",
    "            \"composition\": comp,\n",
    "            \"elements\": [e.symbol for e in d['initial_str'].composition.element_composition.keys()]\n",
    "        },\n",
    "        \"crystal_structure\": {\n",
    "            \"space_group_number\": d['final_str'].get_space_group_info()[1],\n",
    "            \"number_of_atoms\": len(d['final_str']),\n",
    "        },\n",
    "        \"origin\": {\n",
    "            \"name\": \"VASP\",\n",
    "            \"creator\": \"University of Vienna\",\n",
    "            \"type\": \"computation\"\n",
    "        },\n",
    "    }"
   ]
  },
  {
   "cell_type": "markdown",
   "metadata": {},
   "source": [
    "Process all of the data"
   ]
  },
  {
   "cell_type": "code",
   "execution_count": 10,
   "metadata": {},
   "outputs": [],
   "source": [
    "if os.path.isdir('feedstock'):\n",
    "    shutil.rmtree('feedstock')\n",
    "os.mkdir('feedstock')"
   ]
  },
  {
   "cell_type": "code",
   "execution_count": 11,
   "metadata": {},
   "outputs": [
    {
     "data": {
      "application/vnd.jupyter.widget-view+json": {
       "model_id": "a1d0f6612a6d41d4a580f9ce583d5b1e",
       "version_major": 2,
       "version_minor": 0
      },
      "text/plain": [
       "HBox(children=(IntProgress(value=0, description='data/jdft_3d-7-7-2018.json', max=25923, style=ProgressStyle(d…"
      ]
     },
     "metadata": {},
     "output_type": "display_data"
    },
    {
     "name": "stderr",
     "output_type": "stream",
     "text": [
      "/home/wardlt/miniconda3/lib/python3.7/site-packages/pymatgen/core/periodic_table.py:423: UserWarning: No electronegativity for Ar. Setting to NaN. This has no physical meaning, and is mainly done to avoid errors caused by the code expecting a float.\n",
      "  % self.symbol)\n",
      "/home/wardlt/miniconda3/lib/python3.7/site-packages/pymatgen/core/periodic_table.py:423: UserWarning: No electronegativity for He. Setting to NaN. This has no physical meaning, and is mainly done to avoid errors caused by the code expecting a float.\n",
      "  % self.symbol)\n",
      "/home/wardlt/miniconda3/lib/python3.7/site-packages/pymatgen/core/periodic_table.py:423: UserWarning: No electronegativity for Ne. Setting to NaN. This has no physical meaning, and is mainly done to avoid errors caused by the code expecting a float.\n",
      "  % self.symbol)\n"
     ]
    },
    {
     "name": "stdout",
     "output_type": "stream",
     "text": [
      "\n"
     ]
    },
    {
     "data": {
      "application/vnd.jupyter.widget-view+json": {
       "model_id": "a822772f350a47ea8018b288097e2fe7",
       "version_major": 2,
       "version_minor": 0
      },
      "text/plain": [
       "HBox(children=(IntProgress(value=0, description='data/jdft_2d-7-7-2018.json', max=636, style=ProgressStyle(des…"
      ]
     },
     "metadata": {},
     "output_type": "display_data"
    },
    {
     "name": "stdout",
     "output_type": "stream",
     "text": [
      "\n"
     ]
    }
   ],
   "source": [
    "jarvis_keys = set()\n",
    "for f in filenames:\n",
    "    # Get the data\n",
    "    records = loadfn(f, cls=MontyDecoder)\n",
    "    \n",
    "    # Make the output directory\n",
    "    for record in tqdm(records, leave=True, desc=f):\n",
    "        # Convert JARVIS json into MDF-friendly JSON\n",
    "        construct_mdf_record(record, '2d' in f)\n",
    "\n",
    "    # Save the filename again\n",
    "    dumpfn(records, os.path.join('feedstock', os.path.basename(f)))"
   ]
  },
  {
   "cell_type": "markdown",
   "metadata": {},
   "source": [
    "Display an example record"
   ]
  },
  {
   "cell_type": "code",
   "execution_count": 12,
   "metadata": {},
   "outputs": [
    {
     "data": {
      "text/plain": [
       "{'magmom': {'magmom_out': 0.9391109, 'magmom_osz': 0.9391},\n",
       " 'fin_en': -13.562224,\n",
       " 'op_gap': 1.4097,\n",
       " 'final_str': {'@module': 'pymatgen.core.structure',\n",
       "  '@class': 'Structure',\n",
       "  'charge': None,\n",
       "  'lattice': {'matrix': [[-2.811747146991647, -0.0004086778517834, -0.170584],\n",
       "    [1.4000491144005003, 2.4380958557037666, 0.175588],\n",
       "    [0.0, 0.0, -21.938889]],\n",
       "   'a': 2.816916947069837,\n",
       "   'b': 2.8169629159925957,\n",
       "   'c': 21.938889,\n",
       "   'alpha': 93.57369895805945,\n",
       "   'beta': 86.5282161513322,\n",
       "   'gamma': 119.99964743671218,\n",
       "   'volume': 150.38531191412963},\n",
       "  'sites': [{'species': [{'element': 'Co', 'occu': 1}],\n",
       "    'abc': [0.003714832584933, 0.5032219446808739, 0.0430329307216297],\n",
       "    'xyz': [0.6940902680751181, 1.2269018196558281, -0.8563686466255668],\n",
       "    'label': 'Co',\n",
       "    'properties': {'velocities': [0.0, 0.0, 0.0]}},\n",
       "   {'species': [{'element': 'O', 'occu': 1}],\n",
       "    'abc': [0.6834181623962591, 0.8223516869688096, 0.0003353489187117],\n",
       "    'xyz': [-0.7702663172535162, 2.0046929420631776, 0.02045770149338985],\n",
       "    'label': 'O',\n",
       "    'properties': {'velocities': [0.0, 0.0, 0.0]}},\n",
       "   {'species': [{'element': 'O', 'occu': 1}],\n",
       "    'abc': [0.3240110050188096, 0.1840903683503159, 0.0857317203596525],\n",
       "    'xyz': [-0.6533014617770123, 0.44869754802839973, -1.9038057304316895],\n",
       "    'label': 'O',\n",
       "    'properties': {'velocities': [0.0, 0.0, 0.0]}}]},\n",
       " 'mpid': 'mp-782689',\n",
       " 'exfoliation_en': 63.56433333333289,\n",
       " 'elastic': 'na',\n",
       " 'incar': {'LVHAR': True,\n",
       "  'NELM': 500,\n",
       "  'IBRION': 2,\n",
       "  'PARAM2': 0.22,\n",
       "  'PARAM1': 0.1833333333,\n",
       "  'LWAVE': False,\n",
       "  'AGGAC': 0.0,\n",
       "  'ENCUT': 750.0,\n",
       "  'ISIF': 3,\n",
       "  'GGA': 'Bo',\n",
       "  'EDIFF': 1e-07,\n",
       "  'LVTOT': True,\n",
       "  'NSW': 500,\n",
       "  'LCHARG': False,\n",
       "  'ISMEAR': 0,\n",
       "  'NPAR': 4,\n",
       "  'NEDOS': 5000,\n",
       "  'PREC': 'Accurate',\n",
       "  'EDIFFG': -0.001,\n",
       "  'ISPIN': 2,\n",
       "  'LORBIT': 11,\n",
       "  'LUSE_VDW': True},\n",
       " 'kpoints': {'comment': 'Automatic kpoint scheme',\n",
       "  'nkpoints': 0,\n",
       "  'generation_style': 'Gamma',\n",
       "  'kpoints': [[12, 12, 1]],\n",
       "  'usershift': [0, 0, 0],\n",
       "  'kpts_weights': None,\n",
       "  'coord_type': None,\n",
       "  'labels': None,\n",
       "  'tet_number': 0,\n",
       "  'tet_weight': 0,\n",
       "  'tet_connections': None,\n",
       "  '@module': 'pymatgen.io.vasp.inputs',\n",
       "  '@class': 'Kpoints'},\n",
       " 'mepsz': 'na',\n",
       " 'jid': 'JVASP-60593',\n",
       " 'mepsx': 'na',\n",
       " 'mepsy': 'na',\n",
       " 'phi': {'nelect': 21,\n",
       "  'phi': 8.049768451506186,\n",
       "  'scf_vbm': -5.4789,\n",
       "  'scf_cbm': -5.3519,\n",
       "  'Ef': -5.76516013,\n",
       "  'scf_gap': 0.12700000000000067,\n",
       "  'avg_max': 2.284608321506186,\n",
       "  'scf_dir': False},\n",
       " 'initial_str': {'@module': 'pymatgen.core.structure',\n",
       "  '@class': 'Structure',\n",
       "  'charge': None,\n",
       "  'lattice': {'matrix': [[-2.804488, 0.00313, -0.170584],\n",
       "    [1.393914, 2.46944, 0.175588],\n",
       "    [0.0, 0.0, -21.938889]],\n",
       "   'a': 2.8096728706559415,\n",
       "   'b': 2.841119726224152,\n",
       "   'c': 21.938889,\n",
       "   'alpha': 93.54327438189027,\n",
       "   'beta': 86.51925396465549,\n",
       "   'gamma': 119.50502691937044,\n",
       "   'volume': 152.03381978379454},\n",
       "  'sites': [{'species': [{'element': 'Co', 'occu': 1}],\n",
       "    'abc': [0.003708, 0.503211, 0.043024],\n",
       "    'xyz': [0.69103381635, 1.24266097788, -0.85617347274],\n",
       "    'label': 'Co'},\n",
       "   {'species': [{'element': 'O', 'occu': 1}],\n",
       "    'abc': [0.641934, 0.821271, 0.0],\n",
       "    'xyz': [-0.6555150550980002, 2.03008871166, 0.03470166289199997],\n",
       "    'label': 'O'},\n",
       "   {'species': [{'element': 'O', 'occu': 1}],\n",
       "    'abc': [0.365502, 0.185182, 0.086076],\n",
       "    'xyz': [-0.7669181906279999, 0.4584398593400001, -1.9182448657159998],\n",
       "    'label': 'O'}]},\n",
       " 'form_enp': -0.925,\n",
       " 'epsx': 15.7179,\n",
       " 'epsy': 15.7546,\n",
       " 'epsz': 2.2486,\n",
       " 'dimensionality': '2d',\n",
       " 'landing_page': 'https://www.ctcms.nist.gov/~knc6/jsmol/JVASP-60593.html',\n",
       " 'mdf': {'dft': {'converged': True},\n",
       "  'material': {'composition': 'CoO2', 'elements': ['Co', 'O']},\n",
       "  'crystal_structure': {'space_group_number': 12, 'number_of_atoms': 3},\n",
       "  'origin': {'name': 'VASP',\n",
       "   'creator': 'University of Vienna',\n",
       "   'type': 'computation'}}}"
      ]
     },
     "execution_count": 12,
     "metadata": {},
     "output_type": "execute_result"
    }
   ],
   "source": [
    "json.loads(MontyEncoder().encode(record))"
   ]
  },
  {
   "cell_type": "markdown",
   "metadata": {},
   "source": [
    "### Create the Mapping\n",
    "Add in the fields corrsponding to the fields we added, which are all under the `mdf` key"
   ]
  },
  {
   "cell_type": "markdown",
   "metadata": {},
   "source": [
    "Add the keys that map directly to the MDF search fields"
   ]
  },
  {
   "cell_type": "code",
   "execution_count": 13,
   "metadata": {},
   "outputs": [
    {
     "data": {
      "text/plain": [
       "{'__custom.id': 'jid',\n",
       " '__custom.crossreference.materials_project': 'mpid',\n",
       " 'crystal_structure.volume': 'final_str.volume',\n",
       " 'dft.cutoff_energy': 'incar.ENCUT',\n",
       " '__custom.bandgap.mbj': 'mbj_gap',\n",
       " '__custom.bandgap.optb88vdw': 'op_gap',\n",
       " '__custom.formation_enthalpy': 'form_enp',\n",
       " '__custom.elastic_moduli.bulk': 'kv',\n",
       " '__custom.elastic_moduli.shear': 'gv',\n",
       " '__custom.dimensionality': 'dimensionality',\n",
       " '__custom.total_energy': 'fin_en',\n",
       " '__custom.landing_page': 'landing_page'}"
      ]
     },
     "execution_count": 13,
     "metadata": {},
     "output_type": "execute_result"
    }
   ],
   "source": [
    "mapping"
   ]
  },
  {
   "cell_type": "code",
   "execution_count": 14,
   "metadata": {},
   "outputs": [],
   "source": [
    "for k in record['mdf'].keys():\n",
    "    for k2 in record['mdf'][k].keys():\n",
    "        x = '.'.join([k, k2])\n",
    "        mapping[x] = 'mdf.' + x"
   ]
  },
  {
   "cell_type": "code",
   "execution_count": 15,
   "metadata": {},
   "outputs": [
    {
     "data": {
      "text/plain": [
       "{'__custom.id': 'jid',\n",
       " '__custom.crossreference.materials_project': 'mpid',\n",
       " 'crystal_structure.volume': 'final_str.volume',\n",
       " 'dft.cutoff_energy': 'incar.ENCUT',\n",
       " '__custom.bandgap.mbj': 'mbj_gap',\n",
       " '__custom.bandgap.optb88vdw': 'op_gap',\n",
       " '__custom.formation_enthalpy': 'form_enp',\n",
       " '__custom.elastic_moduli.bulk': 'kv',\n",
       " '__custom.elastic_moduli.shear': 'gv',\n",
       " '__custom.dimensionality': 'dimensionality',\n",
       " '__custom.total_energy': 'fin_en',\n",
       " '__custom.landing_page': 'landing_page',\n",
       " 'dft.converged': 'mdf.dft.converged',\n",
       " 'material.composition': 'mdf.material.composition',\n",
       " 'material.elements': 'mdf.material.elements',\n",
       " 'crystal_structure.space_group_number': 'mdf.crystal_structure.space_group_number',\n",
       " 'crystal_structure.number_of_atoms': 'mdf.crystal_structure.number_of_atoms',\n",
       " 'origin.name': 'mdf.origin.name',\n",
       " 'origin.creator': 'mdf.origin.creator',\n",
       " 'origin.type': 'mdf.origin.type'}"
      ]
     },
     "execution_count": 15,
     "metadata": {},
     "output_type": "execute_result"
    }
   ],
   "source": [
    "mapping"
   ]
  },
  {
   "cell_type": "markdown",
   "metadata": {},
   "source": [
    "Make the descriptions for the JARVIS-specific fields"
   ]
  },
  {
   "cell_type": "code",
   "execution_count": 16,
   "metadata": {},
   "outputs": [],
   "source": [
    "custom_desc = {\n",
    "    '__custom.band_gap': 'Band gap energies (eV)',\n",
    "    '__custom.crossreference': 'Cross-references to other DFT databases',\n",
    "    '__custom.dimensionality': 'Dimensionality of the structure',\n",
    "    '__custom.elastic_moduli': 'Elastic moduli (GPa)',\n",
    "    '__custom.formation_enthalpy': 'Formation enthalpy (eV/atom)',\n",
    "    '__custom.id': 'ID number in jarvis database',\n",
    "    '__custom.landing_page': 'URL of landing page in Jarvis website',\n",
    "    '__custom.total_energy': 'Total energy of the structure (eV/atom) '\n",
    "}"
   ]
  },
  {
   "cell_type": "markdown",
   "metadata": {},
   "source": [
    "### Test the Mapping\n",
    "Check it out to make sure it works"
   ]
  },
  {
   "cell_type": "code",
   "execution_count": 17,
   "metadata": {},
   "outputs": [],
   "source": [
    "record = json.loads(MontyEncoder().encode(record))"
   ]
  },
  {
   "cell_type": "code",
   "execution_count": 18,
   "metadata": {},
   "outputs": [],
   "source": [
    "def apply_mapping(data, mapping):\n",
    "    \"\"\"Given a dictionary, return the MDF-formatted mapping\"\"\"\n",
    "    \n",
    "    output = {}\n",
    "    for out_field, in_field in mapping.items():\n",
    "        # Get the value from the input data\n",
    "        fields = in_field.split(\".\")\n",
    "        current_rec = data\n",
    "        for field in fields[:-1]:\n",
    "            current_rec = current_rec.get(field, {})\n",
    "        val = current_rec.get(fields[-1])\n",
    "        if val is None:\n",
    "            continue\n",
    "        \n",
    "        # Add it to the output structure\n",
    "        fields = out_field.split(\".\")\n",
    "        current_rec = output\n",
    "        for field in fields[:-1]:\n",
    "            if not field in current_rec:\n",
    "                current_rec[field] = {}\n",
    "            current_rec = current_rec[field]\n",
    "        current_rec[fields[-1]] = val\n",
    "    return output"
   ]
  },
  {
   "cell_type": "code",
   "execution_count": 19,
   "metadata": {},
   "outputs": [
    {
     "name": "stdout",
     "output_type": "stream",
     "text": [
      "{\n",
      "  \"__custom\": {\n",
      "    \"id\": \"JVASP-60593\",\n",
      "    \"crossreference\": {\n",
      "      \"materials_project\": \"mp-782689\"\n",
      "    },\n",
      "    \"bandgap\": {\n",
      "      \"optb88vdw\": 1.4097\n",
      "    },\n",
      "    \"formation_enthalpy\": -0.925,\n",
      "    \"dimensionality\": \"2d\",\n",
      "    \"total_energy\": -13.562224,\n",
      "    \"landing_page\": \"https://www.ctcms.nist.gov/~knc6/jsmol/JVASP-60593.html\"\n",
      "  },\n",
      "  \"dft\": {\n",
      "    \"cutoff_energy\": 750.0,\n",
      "    \"converged\": true\n",
      "  },\n",
      "  \"material\": {\n",
      "    \"composition\": \"CoO2\",\n",
      "    \"elements\": [\n",
      "      \"Co\",\n",
      "      \"O\"\n",
      "    ]\n",
      "  },\n",
      "  \"crystal_structure\": {\n",
      "    \"space_group_number\": 12,\n",
      "    \"number_of_atoms\": 3\n",
      "  },\n",
      "  \"origin\": {\n",
      "    \"name\": \"VASP\",\n",
      "    \"creator\": \"University of Vienna\",\n",
      "    \"type\": \"computation\"\n",
      "  }\n",
      "}\n"
     ]
    }
   ],
   "source": [
    "print(json.dumps(apply_mapping(record, mapping), indent=2))"
   ]
  },
  {
   "cell_type": "markdown",
   "metadata": {},
   "source": [
    "## Submit the Data to the MDF\n",
    "We will use the MDF Connect Client to describe the dataset (e.g., who made it, where is it), and send it to Connect with Globus"
   ]
  },
  {
   "cell_type": "code",
   "execution_count": 20,
   "metadata": {},
   "outputs": [],
   "source": [
    "client = MDFConnectClient()"
   ]
  },
  {
   "cell_type": "code",
   "execution_count": 21,
   "metadata": {},
   "outputs": [],
   "source": [
    "client.set_source_name('jarvis')"
   ]
  },
  {
   "cell_type": "code",
   "execution_count": 22,
   "metadata": {},
   "outputs": [],
   "source": [
    "client.create_dc_block(\n",
    "    title=\"JARVIS - Joint Automated Repository for Various Integrated Simulations\",\n",
    "    authors=[\"Choudhary, Kamal\", \"Kalish, Irena\", \"Beams, Ryan\", \"Tavazza, Francesca\"],\n",
    "    affiliations=\"National Institute of Standards and Technology\",\n",
    "    publisher='Figshare',\n",
    "    publication_year=2017,\n",
    "    related_dois=['10.1038/s41598-017-05402-0'],\n",
    "    description=\"JARVIS (Joint Automated Repository for Various Integrated Simulations) is a repository designed to automate materials discovery using classical force-field, density functional theory, machine learning calculations and experiments. The Force-field section of JARVIS (JARVIS-FF) consists of thousands of automated LAMMPS based force-field calculations on DFT geometries. Some of the properties included in JARVIS-FF are energetics, elastic constants, surface energies, defect formations energies and phonon frequencies of materials. The Density functional theory section of JARVIS (JARVIS-DFT) consists of thousands of VASP based calculations for 3D-bulk, single layer (2D), nanowire (1D) and molecular (0D) systems. Most of the calculations are carried out with optB88vDW functional. JARVIS-DFT includes materials data such as: energetics, diffraction pattern, radial distribution function, band-structure, density of states, carrier effective mass, temperature and carrier concentration dependent thermoelectric properties, elastic constants and gamma-point phonons. The Machine-learning section of JARVIS (JARVIS-ML) consists of machine learning prediction tools, trained on JARVIS-DFT data. Some of the ML-predictions focus on energetics, heat of formation, GGA/METAGGA bandgaps, bulk and shear modulus.\"\n",
    ")"
   ]
  },
  {
   "cell_type": "code",
   "execution_count": 23,
   "metadata": {},
   "outputs": [],
   "source": [
    "client.add_index('json', mapping)"
   ]
  },
  {
   "cell_type": "code",
   "execution_count": 24,
   "metadata": {},
   "outputs": [],
   "source": [
    "client.set_custom_descriptions(custom_desc)"
   ]
  },
  {
   "cell_type": "code",
   "execution_count": 25,
   "metadata": {},
   "outputs": [],
   "source": [
    "client.add_data('globus://{}{}/'.format(SOURCE_UUID, \n",
    "                                         os.path.abspath(os.path.join('feedstock'))))"
   ]
  },
  {
   "cell_type": "markdown",
   "metadata": {},
   "source": [
    "Print out the submission, for record keeping"
   ]
  },
  {
   "cell_type": "code",
   "execution_count": 26,
   "metadata": {},
   "outputs": [
    {
     "data": {
      "text/plain": [
       "{'dc': {'titles': [{'title': 'JARVIS - Joint Automated Repository for Various Integrated Simulations'}],\n",
       "  'creators': [{'creatorName': 'Choudhary, Kamal',\n",
       "    'familyName': 'Choudhary',\n",
       "    'givenName': 'Kamal',\n",
       "    'affiliations': ['National Institute of Standards and Technology']},\n",
       "   {'creatorName': 'Kalish, Irena',\n",
       "    'familyName': 'Kalish',\n",
       "    'givenName': 'Irena',\n",
       "    'affiliations': ['National Institute of Standards and Technology']},\n",
       "   {'creatorName': 'Beams, Ryan',\n",
       "    'familyName': 'Beams',\n",
       "    'givenName': 'Ryan',\n",
       "    'affiliations': ['National Institute of Standards and Technology']},\n",
       "   {'creatorName': 'Tavazza, Francesca',\n",
       "    'familyName': 'Tavazza',\n",
       "    'givenName': 'Francesca',\n",
       "    'affiliations': ['National Institute of Standards and Technology']}],\n",
       "  'publisher': 'Figshare',\n",
       "  'publicationYear': '2017',\n",
       "  'resourceType': {'resourceTypeGeneral': 'Dataset',\n",
       "   'resourceType': 'Dataset'},\n",
       "  'descriptions': [{'description': 'JARVIS (Joint Automated Repository for Various Integrated Simulations) is a repository designed to automate materials discovery using classical force-field, density functional theory, machine learning calculations and experiments. The Force-field section of JARVIS (JARVIS-FF) consists of thousands of automated LAMMPS based force-field calculations on DFT geometries. Some of the properties included in JARVIS-FF are energetics, elastic constants, surface energies, defect formations energies and phonon frequencies of materials. The Density functional theory section of JARVIS (JARVIS-DFT) consists of thousands of VASP based calculations for 3D-bulk, single layer (2D), nanowire (1D) and molecular (0D) systems. Most of the calculations are carried out with optB88vDW functional. JARVIS-DFT includes materials data such as: energetics, diffraction pattern, radial distribution function, band-structure, density of states, carrier effective mass, temperature and carrier concentration dependent thermoelectric properties, elastic constants and gamma-point phonons. The Machine-learning section of JARVIS (JARVIS-ML) consists of machine learning prediction tools, trained on JARVIS-DFT data. Some of the ML-predictions focus on energetics, heat of formation, GGA/METAGGA bandgaps, bulk and shear modulus.',\n",
       "    'descriptionType': 'Other'}],\n",
       "  'relatedIdentifiers': [{'relatedIdentifier': '10.1038/s41598-017-05402-0',\n",
       "    'relatedIdentifierType': 'DOI',\n",
       "    'relationType': 'IsPartOf'}]},\n",
       " 'data': ['globus://757daaa4-e697-11e8-8c9a-0a1d4c5c824a/home/wardlt/connect_client/docs/examples/jarvis/feedstock/'],\n",
       " 'test': False,\n",
       " 'mdf': {'source_name': 'jarvis'},\n",
       " '__custom': {'__custom.band_gap_desc': 'Band gap energies (eV)',\n",
       "  '__custom.crossreference_desc': 'Cross-references to other DFT databases',\n",
       "  '__custom.dimensionality_desc': 'Dimensionality of the structure',\n",
       "  '__custom.elastic_moduli_desc': 'Elastic moduli (GPa)',\n",
       "  '__custom.formation_enthalpy_desc': 'Formation enthalpy (eV/atom)',\n",
       "  '__custom.id_desc': 'ID number in jarvis database',\n",
       "  '__custom.landing_page_desc': 'URL of landing page in Jarvis website',\n",
       "  '__custom.total_energy_desc': 'Total energy of the structure (eV/atom) '},\n",
       " 'index': {'json': {'mapping': {'__custom.id': 'jid',\n",
       "    '__custom.crossreference.materials_project': 'mpid',\n",
       "    'crystal_structure.volume': 'final_str.volume',\n",
       "    'dft.cutoff_energy': 'incar.ENCUT',\n",
       "    '__custom.bandgap.mbj': 'mbj_gap',\n",
       "    '__custom.bandgap.optb88vdw': 'op_gap',\n",
       "    '__custom.formation_enthalpy': 'form_enp',\n",
       "    '__custom.elastic_moduli.bulk': 'kv',\n",
       "    '__custom.elastic_moduli.shear': 'gv',\n",
       "    '__custom.dimensionality': 'dimensionality',\n",
       "    '__custom.total_energy': 'fin_en',\n",
       "    '__custom.landing_page': 'landing_page',\n",
       "    'dft.converged': 'mdf.dft.converged',\n",
       "    'material.composition': 'mdf.material.composition',\n",
       "    'material.elements': 'mdf.material.elements',\n",
       "    'crystal_structure.space_group_number': 'mdf.crystal_structure.space_group_number',\n",
       "    'crystal_structure.number_of_atoms': 'mdf.crystal_structure.number_of_atoms',\n",
       "    'origin.name': 'mdf.origin.name',\n",
       "    'origin.creator': 'mdf.origin.creator',\n",
       "    'origin.type': 'mdf.origin.type'}}}}"
      ]
     },
     "execution_count": 26,
     "metadata": {},
     "output_type": "execute_result"
    }
   ],
   "source": [
    "client.get_submission()"
   ]
  },
  {
   "cell_type": "markdown",
   "metadata": {},
   "source": [
    "Send it in to MDF"
   ]
  },
  {
   "cell_type": "code",
   "execution_count": 27,
   "metadata": {},
   "outputs": [
    {
     "data": {
      "text/plain": [
       "{'source_id': 'jarvis_v1-1', 'success': True, 'error': None}"
      ]
     },
     "execution_count": 27,
     "metadata": {},
     "output_type": "execute_result"
    }
   ],
   "source": [
    "client.submit_dataset()"
   ]
  },
  {
   "cell_type": "code",
   "execution_count": 29,
   "metadata": {},
   "outputs": [
    {
     "name": "stdout",
     "output_type": "stream",
     "text": [
      "\n",
      "Status of convert submission jarvis_v1-1 (JARVIS - Joint Automated Repository for Various Integrated Simulations)\n",
      "Submitted by Logan Ward at 2018-11-28T16:16:37.234359Z\n",
      "\n",
      "Conversion initialization was successful.\n",
      "Conversion data download was successful: 2 files will be processed (0 archives extracted).\n",
      "Data conversion was successful: 26559 records parsed out of 2 groups.\n",
      "Ingestion preparation was successful.\n",
      "Ingestion initialization was successful.\n",
      "Ingestion data download was successful.\n",
      "Integration data download was not requested or required.\n",
      "Globus Search ingestion was successful.\n",
      "Globus Publish publication was not requested or required.\n",
      "Citrine upload was not requested or required.\n",
      "Materials Resource Registration was not requested or required.\n",
      "Post-processing cleanup was successful.\n",
      "\n"
     ]
    }
   ],
   "source": [
    "client.check_status()"
   ]
  },
  {
   "cell_type": "code",
   "execution_count": null,
   "metadata": {},
   "outputs": [],
   "source": []
  }
 ],
 "metadata": {
  "kernelspec": {
   "display_name": "Python 3",
   "language": "python",
   "name": "python3"
  },
  "language_info": {
   "codemirror_mode": {
    "name": "ipython",
    "version": 3
   },
   "file_extension": ".py",
   "mimetype": "text/x-python",
   "name": "python",
   "nbconvert_exporter": "python",
   "pygments_lexer": "ipython3",
   "version": "3.7.0"
  }
 },
 "nbformat": 4,
 "nbformat_minor": 2
}
