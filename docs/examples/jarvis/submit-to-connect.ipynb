{
 "cells": [
  {
   "cell_type": "markdown",
   "metadata": {},
   "source": [
    "# Submit Jarvis to the MDF Index\n",
    "Downloads the latest copies of Jarvis and submit them to the MDF search index. First has to convert the JSON files stored with each Jarvis calculation to a form compatible with the MDF index, which requires standardizing data types and mapping fields in the JARVIS data schema into ones defined in the MDF schema. Once complete, this notebook submits the data to MDF Connect.\n",
    "\n",
    "This notebook is designed to be run on Linux with Globus Connect Personal installed."
   ]
  },
  {
   "cell_type": "code",
   "execution_count": 1,
   "metadata": {},
   "outputs": [
    {
     "name": "stdout",
     "output_type": "stream",
     "text": [
      "Proceeding without mdf_connect_client\n"
     ]
    }
   ],
   "source": [
    "from mdf_connect_client import MDFConnectClient\n",
    "from monty.json import MontyEncoder, MontyDecoder\n",
    "from monty.serialization import loadfn, dumpfn\n",
    "from tqdm import tqdm_notebook as tqdm\n",
    "from glob import glob\n",
    "import requests\n",
    "import shutil\n",
    "import json\n",
    "import math\n",
    "import cgi\n",
    "import os"
   ]
  },
  {
   "cell_type": "markdown",
   "metadata": {},
   "source": [
    "Settings to change"
   ]
  },
  {
   "cell_type": "code",
   "execution_count": 2,
   "metadata": {},
   "outputs": [
    {
     "name": "stdout",
     "output_type": "stream",
     "text": [
      "My Endpoint Name: 757daaa4-e697-11e8-8c9a-0a1d4c5c824a\n"
     ]
    }
   ],
   "source": [
    "with open(os.path.expanduser(os.path.join('~', '.globusonline', 'lta', 'client-id.txt'))) as fp:\n",
    "    SOURCE_UUID=fp.readline().strip()\n",
    "print('My Endpoint Name:', SOURCE_UUID)\n",
    "metadata_path = os.path.join(os.getcwd(), 'feedstock')"
   ]
  },
  {
   "cell_type": "markdown",
   "metadata": {},
   "source": [
    "Urls for the different data objects"
   ]
  },
  {
   "cell_type": "code",
   "execution_count": 3,
   "metadata": {},
   "outputs": [],
   "source": [
    "data_urls = [\n",
    "    'https://ndownloader.figshare.com/files/12468083',\n",
    "    'https://ndownloader.figshare.com/files/12394556'\n",
    "]"
   ]
  },
  {
   "cell_type": "markdown",
   "metadata": {},
   "source": [
    "## Download the Data\n",
    "Get the data from Figshare, if it hasn't been downloaded already"
   ]
  },
  {
   "cell_type": "code",
   "execution_count": 4,
   "metadata": {},
   "outputs": [],
   "source": [
    "if not os.path.isdir('data'):\n",
    "    os.mkdir('data')"
   ]
  },
  {
   "cell_type": "code",
   "execution_count": 5,
   "metadata": {},
   "outputs": [],
   "source": [
    "filenames = []\n",
    "for url in data_urls:\n",
    "    # Get file info from figshare\n",
    "    req = requests.get(url, stream=True)\n",
    "    \n",
    "    # Get the file name\n",
    "    filename = cgi.parse_header(req.headers['Content-Disposition'])[1]['filename']\n",
    "    filenames.append(filename)\n",
    "    \n",
    "    # Check if file already download, and skip if it is\n",
    "    data_path = os.path.join('data', filename)\n",
    "    if os.path.isfile(data_path):\n",
    "        continue\n",
    "        \n",
    "    # If not, download the file\n",
    "    with open(data_path, 'wb') as fp:\n",
    "        for chunk in req.iter_content(chunk_size=1024):\n",
    "            fp.write(chunk)"
   ]
  },
  {
   "cell_type": "markdown",
   "metadata": {},
   "source": [
    "## Extract Additional Information Out of Records\n",
    "Records need some additional tuning to be the most useful for the MDF index"
   ]
  },
  {
   "cell_type": "code",
   "execution_count": 6,
   "metadata": {},
   "outputs": [],
   "source": [
    "def construct_mdf_record(d, is_2d):\n",
    "    \"\"\"Given a JSON object from Jarvis, convert to an MDF format.\n",
    "    \n",
    "    Schema is designed to be similar to that of the OQMD.\n",
    "    \n",
    "    Args:\n",
    "        d (dict): Record to be converted\n",
    "        is_2d (bool): Wether we are converting the 2d dataset\n",
    "    Returns: (dict) MDF record\"\"\"\n",
    "\n",
    "    # Records that are used multiple times\n",
    "    comp = d['initial_str'].composition.get_integer_formula_and_factor()[0]\n",
    "    \n",
    "    # Make the main part of the output\n",
    "    r = {\n",
    "        \"mdf\": {\n",
    "            \"title\": 'JARVIS - %s - %s'%(d['jid'], comp),\n",
    "            \"acl\": \"public\",\n",
    "        },\n",
    "        \"dft\": {\n",
    "            \"converged\": True,\n",
    "            \"cutoff_energy\": float(d['incar']['ENCUT'])\n",
    "        },\n",
    "        \"material\": {\n",
    "            \"composition\": comp,\n",
    "            \"elements\": [e.symbol for e in d['initial_str'].composition.element_composition.keys()]\n",
    "        },\n",
    "        \"crystal_structure\": {\n",
    "            \"space_group_number\": d['final_str'].get_space_group_info()[1],\n",
    "            \"number_of_atoms\": len(d['final_str']),\n",
    "            \"volume\": d['final_str'].volume,\n",
    "        },\n",
    "        \"origin\": {\n",
    "            \"name\": \"VASP\",\n",
    "            \"creator\": \"University of Vienna\",\n",
    "            \"type\": \"computation\"\n",
    "        },\n",
    "        \"jarvis\": {\n",
    "            \"id\": d['jid'],\n",
    "            \"crossreference\": {\n",
    "                \"materials_project\": d['mpid'],\n",
    "            },\n",
    "            \"dimensionality\": '2d' if is_2d else '3d',\n",
    "            \"band_gap\": {},\n",
    "            \"landing_page\": \"https://www.ctcms.nist.gov/~knc6/jsmol/%s.html\"%d['jid'],\n",
    "            \"total_energy\": float(d['fin_en']), #LW 17Oct17: Are the units \"ev/atom\"\n",
    "        },\n",
    "        \"jarvis_record\": MontyEncoder().encode(d)\n",
    "    }\n",
    "    \n",
    "    # Add in fields that may or may not have valid values\n",
    "    try:\n",
    "        r[\"jarvis\"][\"band_gap\"][\"mbj\"] = float(d[\"mbj_gap\"])\n",
    "    except:\n",
    "        pass\n",
    "    try:\n",
    "        r[\"jarvis\"][\"band_gap\"][\"optb88vdw\"] = float(d[\"op_gap\"])\n",
    "    except:\n",
    "        pass\n",
    "    try:\n",
    "        r['jarvis']['formation_enthalpy'] = float(d[\"form_enp\"])\n",
    "    except:\n",
    "        pass\n",
    "        \n",
    "        \n",
    "    # Add in fields that are only good for some materials\n",
    "    if not is_2d:\n",
    "        try:\n",
    "            r[\"jarvis\"][\"elastic_moduli\"] = {\n",
    "                \"bulk\": float(d[\"kv\"]), # Units GPa\n",
    "                \"shear\": float(d[\"gv\"]) # Units GPa\n",
    "            }\n",
    "        except:\n",
    "            pass\n",
    "        \n",
    "        # LW 17Oct17: Are dielectric functions only valid for 3D materials?\n",
    "        # LW 17Oct17: What are the units?\n",
    "        #r[\"jarvis\"][\"dielectric_function\"] = {}\n",
    "        #try:\n",
    "        #    r[\"jarvis\"][\"dielectric_function\"][\"optb88vdw\"] = {\"value\": float(d[\"epsx\"]), \"units\": \"units\"}\n",
    "        #except:\n",
    "        #    pass\n",
    "        #try:\n",
    "        #    r[\"jarvis\"][\"dielectric_function\"][\"mbj\"] = {\"value\": float(d[\"mepsx\"]), \"units\": \"units\"}\n",
    "        #except:\n",
    "        #    pass\n",
    "        \n",
    "    # Check if any values are NaNs or infinity. If so, delete them\n",
    "    for key, value in dict(r['jarvis']).items():\n",
    "        # Check the values of dictionaries. Assumes we do not have nested dicts\n",
    "        if isinstance(value, dict):\n",
    "            for key2, value2 in dict(value).items():\n",
    "                if isinstance(value2, (int, float)) and not math.isfinite(value2):\n",
    "                    del r['jarvis'][key][key2]\n",
    "\n",
    "        # Check non-dicts\n",
    "        if isinstance(value, (int, float)) and not math.isfinite(value):\n",
    "            del r['jarvis'][key]\n",
    "\n",
    "    return r"
   ]
  },
  {
   "cell_type": "markdown",
   "metadata": {},
   "source": [
    "Process all of the data"
   ]
  },
  {
   "cell_type": "code",
   "execution_count": 7,
   "metadata": {},
   "outputs": [],
   "source": [
    "if os.path.isdir('feedstock'):\n",
    "    shutil.rmtree('feedstock')\n",
    "os.mkdir('feedstock')"
   ]
  },
  {
   "cell_type": "code",
   "execution_count": 8,
   "metadata": {},
   "outputs": [
    {
     "data": {
      "application/vnd.jupyter.widget-view+json": {
       "model_id": "c66e07ca81ca47899ddb7f6daf0ab9a9",
       "version_major": 2,
       "version_minor": 0
      },
      "text/plain": [
       "HBox(children=(IntProgress(value=0, description='jdft_3d-7-7-2018.json', max=25923, style=ProgressStyle(descri…"
      ]
     },
     "metadata": {},
     "output_type": "display_data"
    },
    {
     "name": "stderr",
     "output_type": "stream",
     "text": [
      "/home/wardlt/miniconda3/lib/python3.7/site-packages/pymatgen/core/periodic_table.py:423: UserWarning: No electronegativity for Ar. Setting to NaN. This has no physical meaning, and is mainly done to avoid errors caused by the code expecting a float.\n",
      "  % self.symbol)\n",
      "/home/wardlt/miniconda3/lib/python3.7/site-packages/pymatgen/core/periodic_table.py:423: UserWarning: No electronegativity for He. Setting to NaN. This has no physical meaning, and is mainly done to avoid errors caused by the code expecting a float.\n",
      "  % self.symbol)\n",
      "/home/wardlt/miniconda3/lib/python3.7/site-packages/pymatgen/core/periodic_table.py:423: UserWarning: No electronegativity for Ne. Setting to NaN. This has no physical meaning, and is mainly done to avoid errors caused by the code expecting a float.\n",
      "  % self.symbol)\n"
     ]
    },
    {
     "name": "stdout",
     "output_type": "stream",
     "text": [
      "\n"
     ]
    },
    {
     "data": {
      "application/vnd.jupyter.widget-view+json": {
       "model_id": "caa5a2904680422a992b8e5a65794425",
       "version_major": 2,
       "version_minor": 0
      },
      "text/plain": [
       "HBox(children=(IntProgress(value=0, description='jdft_2d-7-7-2018.json', max=636, style=ProgressStyle(descript…"
      ]
     },
     "metadata": {},
     "output_type": "display_data"
    },
    {
     "name": "stdout",
     "output_type": "stream",
     "text": [
      "\n"
     ]
    }
   ],
   "source": [
    "jarvis_keys = set()\n",
    "for f in filenames:\n",
    "    # Get the data\n",
    "    records = loadfn(os.path.join('data', f), cls=MontyDecoder)\n",
    "    \n",
    "    # Make the output directory\n",
    "    dirname = f\n",
    "    os.mkdir(os.path.join('feedstock', dirname))\n",
    "    for record in tqdm(records, leave=True, desc=f):\n",
    "        # Convert JARVIS json into MDF-friendly JSON\n",
    "        record_metadata = construct_mdf_record(record, '2d' in f)\n",
    "        jarvis_keys.update(record_metadata[\"jarvis\"].keys())\n",
    "        dumpfn(record_metadata, os.path.join('feedstock', dirname, '{}.json'.format(record_metadata['jarvis']['id'])), cls=MontyEncoder)"
   ]
  },
  {
   "cell_type": "markdown",
   "metadata": {},
   "source": [
    "## Create the Mapping\n",
    "The mapping for this dataset"
   ]
  },
  {
   "cell_type": "code",
   "execution_count": 9,
   "metadata": {},
   "outputs": [],
   "source": [
    "mapping = {\n",
    "    'crystal_structure.space_group_number': 'crystal_structure.space_group_number',\n",
    "    'crystal_structure.number_of_atoms': 'crystal_structure.number_of_atoms',\n",
    "    'crystal_structure.volume': 'crystal_structure.volume',\n",
    "#    'crystal_structure.cross_reference.icsd': 'entry.crossreference.icsd',\n",
    "    'dft.converged': 'dft.converged',\n",
    "    'dft.cutoff_energy': 'dft.cutoff_energy',\n",
    "    #'dft.exchange_correlation_functional': 'xc_functional', # LW 16Apr18: Can I just assume PBE?\n",
    "    'material.composition': 'material.composition',\n",
    "    'material.elements': 'material.elements',\n",
    "}"
   ]
  },
  {
   "cell_type": "code",
   "execution_count": 10,
   "metadata": {},
   "outputs": [],
   "source": [
    "mapping.update(dict(zip([\"__custom.\"+x for x in jarvis_keys], [\"jarvis.\"+x for x in jarvis_keys])))"
   ]
  },
  {
   "cell_type": "code",
   "execution_count": 11,
   "metadata": {},
   "outputs": [
    {
     "data": {
      "text/plain": [
       "{'crystal_structure.space_group_number': 'crystal_structure.space_group_number',\n",
       " 'crystal_structure.number_of_atoms': 'crystal_structure.number_of_atoms',\n",
       " 'crystal_structure.volume': 'crystal_structure.volume',\n",
       " 'dft.converged': 'dft.converged',\n",
       " 'dft.cutoff_energy': 'dft.cutoff_energy',\n",
       " 'material.composition': 'material.composition',\n",
       " 'material.elements': 'material.elements',\n",
       " '__custom.formation_enthalpy': 'jarvis.formation_enthalpy',\n",
       " '__custom.elastic_moduli': 'jarvis.elastic_moduli',\n",
       " '__custom.total_energy': 'jarvis.total_energy',\n",
       " '__custom.crossreference': 'jarvis.crossreference',\n",
       " '__custom.id': 'jarvis.id',\n",
       " '__custom.landing_page': 'jarvis.landing_page',\n",
       " '__custom.band_gap': 'jarvis.band_gap',\n",
       " '__custom.dimensionality': 'jarvis.dimensionality'}"
      ]
     },
     "execution_count": 11,
     "metadata": {},
     "output_type": "execute_result"
    }
   ],
   "source": [
    "mapping"
   ]
  },
  {
   "cell_type": "markdown",
   "metadata": {},
   "source": [
    "Make the descriptions for the JARVIS-specific fields"
   ]
  },
  {
   "cell_type": "code",
   "execution_count": 12,
   "metadata": {},
   "outputs": [],
   "source": [
    "custom_desc = {\n",
    "    '__custom.band_gap': 'Band gap energies (eV)',\n",
    "    '__custom.crossreference': 'Cross-references to other DFT databases',\n",
    "    '__custom.dimensionality': 'Dimensionality of the structure',\n",
    "    '__custom.elastic_moduli': 'Elastic moduli (GPa)',\n",
    "    '__custom.formation_enthalpy': 'Formation enthalpy (eV/atom)',\n",
    "    '__custom.id': 'ID number in jarvis database',\n",
    "    '__custom.landing_page': 'URL of landing page in Jarvis website',\n",
    "    '__custom.total_energy': 'Total energy of the structure (eV/atom) '\n",
    "}"
   ]
  },
  {
   "cell_type": "markdown",
   "metadata": {},
   "source": [
    "### Test the Mapping\n",
    "Check it out to make sure it works"
   ]
  },
  {
   "cell_type": "code",
   "execution_count": 13,
   "metadata": {},
   "outputs": [],
   "source": [
    "with open(glob(os.path.join('feedstock', '**', 'JVASP-28754.json'))[0]) as fp:\n",
    "    f = json.load(fp)"
   ]
  },
  {
   "cell_type": "code",
   "execution_count": 14,
   "metadata": {
    "scrolled": true
   },
   "outputs": [
    {
     "data": {
      "text/plain": [
       "{'mdf': {'title': 'JARVIS - JVASP-28754 - TeMoWSeS2', 'acl': 'public'},\n",
       " 'dft': {'converged': True, 'cutoff_energy': 650.0},\n",
       " 'material': {'composition': 'TeMoWSeS2',\n",
       "  'elements': ['Te', 'Mo', 'W', 'Se', 'S']},\n",
       " 'crystal_structure': {'space_group_number': 156,\n",
       "  'number_of_atoms': 12,\n",
       "  'volume': 358.2165572042844},\n",
       " 'origin': {'name': 'VASP',\n",
       "  'creator': 'University of Vienna',\n",
       "  'type': 'computation'},\n",
       " 'jarvis': {'id': 'JVASP-28754',\n",
       "  'crossreference': {'materials_project': 'mp-1027609'},\n",
       "  'dimensionality': '3d',\n",
       "  'band_gap': {'optb88vdw': 0.0607},\n",
       "  'landing_page': 'https://www.ctcms.nist.gov/~knc6/jsmol/JVASP-28754.html',\n",
       "  'total_energy': -58.427629,\n",
       "  'formation_enthalpy': -0.538},\n",
       " 'jarvis_record': '{\"gv\": \"na\", \"mpid\": \"mp-1027609\", \"encut\": 650, \"icsd\": \"None\", \"form_enp\": -0.538, \"final_str\": {\"@module\": \"pymatgen.core.structure\", \"@class\": \"Structure\", \"charge\": null, \"lattice\": {\"matrix\": [[3.317942086959519, 0.0, 0.0], [-1.6589710434797595, 2.873431366402459, 4.95442170365e-05], [0.0, 0.0006434991766671, 37.57301329273654]], \"a\": 3.317942086959519, \"b\": 3.3179500814485525, \"c\": 37.57301329824703, \"alpha\": 89.99829463196566, \"beta\": 90.0, \"gamma\": 119.99992029552713, \"volume\": 358.2165572042844}, \"sites\": [{\"species\": [{\"element\": \"Te\", \"occu\": 1}], \"abc\": [0.3333504865610287, 0.6667019731220477, 0.7087768314325589], \"xyz\": [-1.6589710274406144e-06, 1.9161784589187687, 26.630914340226475], \"label\": \"Te\", \"properties\": {\"velocities\": [0.0, 0.0, 0.0]}}, {\"species\": [{\"element\": \"Te\", \"occu\": 1}], \"abc\": [0.333343962631322, 0.666687925262637, 0.6066613827039049], \"xyz\": [1.1546319456101628e-14, 1.9160723821517252, 22.794129227055016], \"label\": \"Te\", \"properties\": {\"velocities\": [0.0, 0.0, 0.0]}}, {\"species\": [{\"element\": \"Mo\", \"occu\": 1}], \"abc\": [0.3333217278154436, 0.6666424556308898, 0.0938996834187167], \"xyz\": [1.6589710392089785e-06, 1.9156117665543275, 3.528127081553703], \"label\": \"Mo\", \"properties\": {\"velocities\": [0.0, 0.0, 0.0]}}, {\"species\": [{\"element\": \"Mo\", \"occu\": 1}], \"abc\": [0.6666971801968099, 0.3333943603936194, 0.2817629136620518], \"xyz\": [1.6589710434797604, 0.9581671267396686, 10.586698218187001], \"label\": \"Mo\", \"properties\": {\"velocities\": [0.0, 0.0, 0.0]}}, {\"species\": [{\"element\": \"W\", \"occu\": 1}], \"abc\": [0.333323522188989, 0.6666480443779754, 0.4694679621130554], \"xyz\": [-1.658971039431023e-06, 1.9158695033136244, 17.639359009543163], \"label\": \"W\", \"properties\": {\"velocities\": [0.0, 0.0, 0.0]}}, {\"species\": [{\"element\": \"W\", \"occu\": 1}], \"abc\": [0.666684566437825, 0.3333681328756454, 0.6578644585503162], \"xyz\": [1.6589727024508107, 0.9583337848013379, 24.717966562393084], \"label\": \"W\", \"properties\": {\"velocities\": [0.0, 0.0, 0.0]}}, {\"species\": [{\"element\": \"Se\", \"occu\": 1}], \"abc\": [0.6666539678106541, 0.333306935621311, 0.4244734099388882], \"xyz\": [1.6589727024507988, 0.9580077517435728, 15.948761587478211], \"label\": \"Se\", \"properties\": {\"velocities\": [0.0, 0.0, 0.0]}}, {\"species\": [{\"element\": \"Se\", \"occu\": 1}], \"abc\": [0.6666672296380793, 0.3333334592761609, 0.5141674928328477], \"xyz\": [1.6589727024507992, 0.9581416837138644, 19.318838557646856], \"label\": \"Se\", \"properties\": {\"velocities\": [0.0, 0.0, 0.0]}}, {\"species\": [{\"element\": \"S\", \"occu\": 1}], \"abc\": [0.3333481311987053, 0.6666972623974081, 0.3224547554564747], \"xyz\": [-1.6589710392089785e-06, 1.915916325037012, 12.115629844066099], \"label\": \"S\", \"properties\": {\"velocities\": [0.0, 0.0, 0.0]}}, {\"species\": [{\"element\": \"S\", \"occu\": 1}], \"abc\": [0.666629851113173, 0.3332577022263437, 0.053471148574224], \"xyz\": [1.6589743614218502, 0.9576275433124696, 2.009088687149137], \"label\": \"S\", \"properties\": {\"velocities\": [0.0, 0.0, 0.0]}}, {\"species\": [{\"element\": \"S\", \"occu\": 1}], \"abc\": [0.6666416837327319, 0.3332813674654614, 0.1345994089433208], \"xyz\": [1.6589743614218508, 0.9577477497215956, 5.057321893586277], \"label\": \"S\", \"properties\": {\"velocities\": [0.0, 0.0, 0.0]}}, {\"species\": [{\"element\": \"S\", \"occu\": 1}], \"abc\": [0.3333396906752479, 0.6666803813505005, 0.2411485523736519], \"xyz\": [-1.6589710511993871e-06, 1.915815498032588, 9.060710794016904], \"label\": \"S\", \"properties\": {\"velocities\": [0.0, 0.0, 0.0]}}]}, \"mbj_gap\": Infinity, \"fin_en\": -58.427629, \"jid\": \"JVASP-28754\", \"elastic\": \"na\", \"incar\": {\"LVHAR\": true, \"NELM\": 500, \"IBRION\": 2, \"PARAM2\": 0.22, \"PARAM1\": 0.1833333333, \"LWAVE\": false, \"AGGAC\": 0.0, \"ENCUT\": 650, \"ISIF\": 3, \"GGA\": \"Bo\", \"EDIFF\": 1e-07, \"LVTOT\": true, \"NSW\": 500, \"LCHARG\": true, \"ISMEAR\": 0, \"NPAR\": 4, \"NEDOS\": 5000, \"PREC\": \"Accurate\", \"EDIFFG\": -0.001, \"ISPIN\": 2, \"LORBIT\": 11, \"LUSE_VDW\": true}, \"kpoints\": {\"comment\": \"Automatic kpoint scheme\", \"nkpoints\": 0, \"generation_style\": \"Gamma\", \"kpoints\": [[12, 12, 1]], \"usershift\": [0, 0, 0], \"kpts_weights\": null, \"coord_type\": null, \"labels\": null, \"tet_number\": 0, \"tet_weight\": 0, \"tet_connections\": null, \"@module\": \"pymatgen.io.vasp.inputs\", \"@class\": \"Kpoints\"}, \"kp_leng\": 60, \"epsz\": 7.1033, \"epsx\": 12.8646, \"epsy\": 12.8646, \"eff_mass\": {\"p\": \"na\", \"n\": \"na\"}, \"op_gap\": 0.0607, \"initial_str\": {\"@module\": \"pymatgen.core.structure\", \"@class\": \"Structure\", \"charge\": null, \"lattice\": {\"matrix\": [[3.310942, 0.0, 0.0], [-1.655471, 2.867379, -4.8e-05], [0.0, -0.000639, 37.784886]], \"a\": 3.310942, \"b\": 3.3109585566397537, \"c\": 37.78488600540323, \"alpha\": 90.00166977926187, \"beta\": 90.0, \"gamma\": 119.99983458301618, \"volume\": 358.71933793679796}, \"sites\": [{\"species\": [{\"element\": \"Te\", \"occu\": 1}], \"abc\": [0.333347, 0.666695, 0.708665], \"xyz\": [-1.6554710000615813e-06, 1.9112144054700002, 26.77679423583], \"label\": \"Te\"}, {\"species\": [{\"element\": \"Te\", \"occu\": 1}], \"abc\": [0.333353, 0.666706, 0.606925], \"xyz\": [0.0, 1.9113109584990002, 22.932559933662002], \"label\": \"Te\"}, {\"species\": [{\"element\": \"Mo\", \"occu\": 1}], \"abc\": [0.333296, 0.666591, 0.093921], \"xyz\": [1.6554709998395367e-06, 1.9113090194700002, 3.548762281638], \"label\": \"Mo\"}, {\"species\": [{\"element\": \"Mo\", \"occu\": 1}], \"abc\": [0.666671, 0.333342, 0.281798], \"xyz\": [1.655471, 0.9556377816960001, 10.647689304612], \"label\": \"Mo\"}, {\"species\": [{\"element\": \"W\", \"occu\": 1}], \"abc\": [0.333328, 0.666657, 0.469396], \"xyz\": [-1.6554710000615813e-06, 1.9112583379590002, 17.73604234932], \"label\": \"W\"}, {\"species\": [{\"element\": \"W\", \"occu\": 1}], \"abc\": [0.666679, 0.333357, 0.657797], \"xyz\": [1.6554726554710002, 0.9554405290200001, 24.854768655005998], \"label\": \"W\"}, {\"species\": [{\"element\": \"Se\", \"occu\": 1}], \"abc\": [0.666655, 0.333309, 0.424819], \"xyz\": [1.6554726554709998, 0.9554517677700001, 16.051721486802], \"label\": \"Se\"}, {\"species\": [{\"element\": \"Se\", \"occu\": 1}], \"abc\": [0.666663, 0.333325, 0.514087], \"xyz\": [1.655472655471, 0.955440603582, 19.424702689482], \"label\": \"Se\"}, {\"species\": [{\"element\": \"S\", \"occu\": 1}], \"abc\": [0.333353, 0.666707, 0.322211], \"xyz\": [-1.6554710000615813e-06, 1.9114957581240002, 12.174673901010001], \"label\": \"S\"}, {\"species\": [{\"element\": \"S\", \"occu\": 1}], \"abc\": [0.666646, 0.33329, 0.053478], \"xyz\": [1.6554743109419996, 0.9556345744679999, 2.0206441355880003], \"label\": \"S\"}, {\"species\": [{\"element\": \"S\", \"occu\": 1}], \"abc\": [0.666651, 0.3333, 0.134315], \"xyz\": [1.6554743109419998, 0.955611593415, 5.07506096469], \"label\": \"S\"}, {\"species\": [{\"element\": \"S\", \"occu\": 1}], \"abc\": [0.33336, 0.666721, 0.241336], \"xyz\": [-1.6554710000615813e-06, 1.911587580555, 9.118821245088], \"label\": \"S\"}]}, \"magmom\": {\"magmom_out\": -3e-06, \"magmom_osz\": -0.0}, \"mepsz\": 4.3479, \"mepsx\": 4.6285, \"mepsy\": 4.3924, \"kv\": \"na\"}'}"
      ]
     },
     "execution_count": 14,
     "metadata": {},
     "output_type": "execute_result"
    }
   ],
   "source": [
    "f"
   ]
  },
  {
   "cell_type": "code",
   "execution_count": 15,
   "metadata": {},
   "outputs": [],
   "source": [
    "def apply_mapping(data, mapping):\n",
    "    \"\"\"Given a dictionary, return the MDF-formatted mapping\"\"\"\n",
    "    \n",
    "    output = {}\n",
    "    for out_field, in_field in mapping.items():\n",
    "        # Get the value from the input data\n",
    "        fields = in_field.split(\".\")\n",
    "        current_rec = data\n",
    "        for field in fields[:-1]:\n",
    "            current_rec = current_rec.get(field, {})\n",
    "        val = current_rec.get(fields[-1])\n",
    "        if val is None:\n",
    "            continue\n",
    "        \n",
    "        # Add it to the output structure\n",
    "        fields = out_field.split(\".\")\n",
    "        current_rec = output\n",
    "        for field in fields[:-1]:\n",
    "            if not field in current_rec:\n",
    "                current_rec[field] = {}\n",
    "            current_rec = current_rec[field]\n",
    "        current_rec[fields[-1]] = val\n",
    "    return output"
   ]
  },
  {
   "cell_type": "code",
   "execution_count": 16,
   "metadata": {},
   "outputs": [
    {
     "name": "stdout",
     "output_type": "stream",
     "text": [
      "{\n",
      "  \"crystal_structure\": {\n",
      "    \"space_group_number\": 156,\n",
      "    \"number_of_atoms\": 12,\n",
      "    \"volume\": 358.2165572042844\n",
      "  },\n",
      "  \"dft\": {\n",
      "    \"converged\": true,\n",
      "    \"cutoff_energy\": 650.0\n",
      "  },\n",
      "  \"material\": {\n",
      "    \"composition\": \"TeMoWSeS2\",\n",
      "    \"elements\": [\n",
      "      \"Te\",\n",
      "      \"Mo\",\n",
      "      \"W\",\n",
      "      \"Se\",\n",
      "      \"S\"\n",
      "    ]\n",
      "  },\n",
      "  \"__custom\": {\n",
      "    \"formation_enthalpy\": -0.538,\n",
      "    \"total_energy\": -58.427629,\n",
      "    \"crossreference\": {\n",
      "      \"materials_project\": \"mp-1027609\"\n",
      "    },\n",
      "    \"id\": \"JVASP-28754\",\n",
      "    \"landing_page\": \"https://www.ctcms.nist.gov/~knc6/jsmol/JVASP-28754.html\",\n",
      "    \"band_gap\": {\n",
      "      \"optb88vdw\": 0.0607\n",
      "    },\n",
      "    \"dimensionality\": \"3d\"\n",
      "  }\n",
      "}\n"
     ]
    }
   ],
   "source": [
    "print(json.dumps(apply_mapping(f, mapping), indent=2))"
   ]
  },
  {
   "cell_type": "markdown",
   "metadata": {},
   "source": [
    "## Submit the Data to the MDF\n",
    "We will use the MDF Connect Client to describe the dataset (e.g., who made it, where is it), and send it to Connect with Globus"
   ]
  },
  {
   "cell_type": "code",
   "execution_count": 17,
   "metadata": {},
   "outputs": [],
   "source": [
    "client = MDFConnectClient()"
   ]
  },
  {
   "cell_type": "code",
   "execution_count": 18,
   "metadata": {},
   "outputs": [],
   "source": [
    "client.set_source_name('jarvis')"
   ]
  },
  {
   "cell_type": "code",
   "execution_count": 19,
   "metadata": {},
   "outputs": [],
   "source": [
    "client.create_dc_block(\n",
    "    title=\"JARVIS - Joint Automated Repository for Various Integrated Simulations\",\n",
    "    authors=[\"Choudhary, Kamal\", \"Kalish, Irena\", \"Beams, Ryan\", \"Tavazza, Francesca\"],\n",
    "    affiliations=\"National Institute of Standards and Technology\",\n",
    "    publisher='Figshare',\n",
    "    publication_year=2017,\n",
    "    related_dois=['10.1038/s41598-017-05402-0'],\n",
    "    description=\"JARVIS (Joint Automated Repository for Various Integrated Simulations) is a repository designed to automate materials discovery using classical force-field, density functional theory, machine learning calculations and experiments. The Force-field section of JARVIS (JARVIS-FF) consists of thousands of automated LAMMPS based force-field calculations on DFT geometries. Some of the properties included in JARVIS-FF are energetics, elastic constants, surface energies, defect formations energies and phonon frequencies of materials. The Density functional theory section of JARVIS (JARVIS-DFT) consists of thousands of VASP based calculations for 3D-bulk, single layer (2D), nanowire (1D) and molecular (0D) systems. Most of the calculations are carried out with optB88vDW functional. JARVIS-DFT includes materials data such as: energetics, diffraction pattern, radial distribution function, band-structure, density of states, carrier effective mass, temperature and carrier concentration dependent thermoelectric properties, elastic constants and gamma-point phonons. The Machine-learning section of JARVIS (JARVIS-ML) consists of machine learning prediction tools, trained on JARVIS-DFT data. Some of the ML-predictions focus on energetics, heat of formation, GGA/METAGGA bandgaps, bulk and shear modulus.\"\n",
    ")"
   ]
  },
  {
   "cell_type": "code",
   "execution_count": 20,
   "metadata": {},
   "outputs": [],
   "source": [
    "client.add_index('json', mapping)"
   ]
  },
  {
   "cell_type": "code",
   "execution_count": 21,
   "metadata": {},
   "outputs": [],
   "source": [
    "client.add_data('globus://{}{}/'.format(SOURCE_UUID, \n",
    "                                         os.path.abspath(os.path.join('feedstock'))))"
   ]
  },
  {
   "cell_type": "markdown",
   "metadata": {},
   "source": [
    "Print out the submission, for record keeping"
   ]
  },
  {
   "cell_type": "code",
   "execution_count": 22,
   "metadata": {},
   "outputs": [
    {
     "data": {
      "text/plain": [
       "{'dc': {'titles': [{'title': 'JARVIS - Joint Automated Repository for Various Integrated Simulations'}],\n",
       "  'creators': [{'creatorName': 'Choudhary, Kamal',\n",
       "    'familyName': 'Choudhary',\n",
       "    'givenName': 'Kamal',\n",
       "    'affiliations': ['National Institute of Standards and Technology']},\n",
       "   {'creatorName': 'Kalish, Irena',\n",
       "    'familyName': 'Kalish',\n",
       "    'givenName': 'Irena',\n",
       "    'affiliations': ['National Institute of Standards and Technology']},\n",
       "   {'creatorName': 'Beams, Ryan',\n",
       "    'familyName': 'Beams',\n",
       "    'givenName': 'Ryan',\n",
       "    'affiliations': ['National Institute of Standards and Technology']},\n",
       "   {'creatorName': 'Tavazza, Francesca',\n",
       "    'familyName': 'Tavazza',\n",
       "    'givenName': 'Francesca',\n",
       "    'affiliations': ['National Institute of Standards and Technology']}],\n",
       "  'publisher': 'Figshare',\n",
       "  'publicationYear': '2017',\n",
       "  'resourceType': {'resourceTypeGeneral': 'Dataset',\n",
       "   'resourceType': 'Dataset'},\n",
       "  'descriptions': [{'description': 'JARVIS (Joint Automated Repository for Various Integrated Simulations) is a repository designed to automate materials discovery using classical force-field, density functional theory, machine learning calculations and experiments. The Force-field section of JARVIS (JARVIS-FF) consists of thousands of automated LAMMPS based force-field calculations on DFT geometries. Some of the properties included in JARVIS-FF are energetics, elastic constants, surface energies, defect formations energies and phonon frequencies of materials. The Density functional theory section of JARVIS (JARVIS-DFT) consists of thousands of VASP based calculations for 3D-bulk, single layer (2D), nanowire (1D) and molecular (0D) systems. Most of the calculations are carried out with optB88vDW functional. JARVIS-DFT includes materials data such as: energetics, diffraction pattern, radial distribution function, band-structure, density of states, carrier effective mass, temperature and carrier concentration dependent thermoelectric properties, elastic constants and gamma-point phonons. The Machine-learning section of JARVIS (JARVIS-ML) consists of machine learning prediction tools, trained on JARVIS-DFT data. Some of the ML-predictions focus on energetics, heat of formation, GGA/METAGGA bandgaps, bulk and shear modulus.',\n",
       "    'descriptionType': 'Other'}],\n",
       "  'relatedIdentifiers': [{'relatedIdentifier': '10.1038/s41598-017-05402-0',\n",
       "    'relatedIdentifierType': 'DOI',\n",
       "    'relationType': 'IsPartOf'}]},\n",
       " 'data': ['globus://757daaa4-e697-11e8-8c9a-0a1d4c5c824a/home/wardlt/connect_client/docs/examples/jarvis/feedstock/'],\n",
       " 'test': False,\n",
       " 'mdf': {'source_name': 'jarvis'},\n",
       " 'index': {'json': {'mapping': {'crystal_structure.space_group_number': 'crystal_structure.space_group_number',\n",
       "    'crystal_structure.number_of_atoms': 'crystal_structure.number_of_atoms',\n",
       "    'crystal_structure.volume': 'crystal_structure.volume',\n",
       "    'dft.converged': 'dft.converged',\n",
       "    'dft.cutoff_energy': 'dft.cutoff_energy',\n",
       "    'material.composition': 'material.composition',\n",
       "    'material.elements': 'material.elements',\n",
       "    '__custom.formation_enthalpy': 'jarvis.formation_enthalpy',\n",
       "    '__custom.elastic_moduli': 'jarvis.elastic_moduli',\n",
       "    '__custom.total_energy': 'jarvis.total_energy',\n",
       "    '__custom.crossreference': 'jarvis.crossreference',\n",
       "    '__custom.id': 'jarvis.id',\n",
       "    '__custom.landing_page': 'jarvis.landing_page',\n",
       "    '__custom.band_gap': 'jarvis.band_gap',\n",
       "    '__custom.dimensionality': 'jarvis.dimensionality'}}}}"
      ]
     },
     "execution_count": 22,
     "metadata": {},
     "output_type": "execute_result"
    }
   ],
   "source": [
    "client.get_submission()"
   ]
  },
  {
   "cell_type": "markdown",
   "metadata": {},
   "source": [
    "Send it in to MDF"
   ]
  },
  {
   "cell_type": "code",
   "execution_count": 23,
   "metadata": {},
   "outputs": [
    {
     "data": {
      "text/plain": [
       "{'source_id': 'jarvis_v1', 'success': True, 'error': None}"
      ]
     },
     "execution_count": 23,
     "metadata": {},
     "output_type": "execute_result"
    }
   ],
   "source": [
    "client.submit_dataset()"
   ]
  },
  {
   "cell_type": "code",
   "execution_count": 24,
   "metadata": {},
   "outputs": [
    {
     "name": "stdout",
     "output_type": "stream",
     "text": [
      "\n",
      "Status of convert submission jarvis_v1 (JARVIS - Joint Automated Repository for Various Integrated Simulations)\n",
      "Submitted by Logan Ward at 2018-11-13T16:26:32.295979Z\n",
      "\n",
      "Conversion initialization is in progress.\n",
      "Conversion data download has not started yet.\n",
      "Data conversion has not started yet.\n",
      "Ingestion preparation has not started yet.\n",
      "Ingestion initialization has not started yet.\n",
      "Ingestion data download has not started yet.\n",
      "Integration data download has not started yet.\n",
      "Globus Search ingestion has not started yet.\n",
      "Globus Publish publication has not started yet.\n",
      "Citrine upload has not started yet.\n",
      "Materials Resource Registration has not started yet.\n",
      "Post-processing cleanup has not started yet.\n",
      "\n"
     ]
    }
   ],
   "source": [
    "client.check_status()"
   ]
  },
  {
   "cell_type": "code",
   "execution_count": 25,
   "metadata": {},
   "outputs": [],
   "source": []
  }
 ],
 "metadata": {
  "kernelspec": {
   "display_name": "Python 3",
   "language": "python",
   "name": "python3"
  },
  "language_info": {
   "codemirror_mode": {
    "name": "ipython",
    "version": 3
   },
   "file_extension": ".py",
   "mimetype": "text/x-python",
   "name": "python",
   "nbconvert_exporter": "python",
   "pygments_lexer": "ipython3",
   "version": "3.7.0"
  }
 },
 "nbformat": 4,
 "nbformat_minor": 2
}
