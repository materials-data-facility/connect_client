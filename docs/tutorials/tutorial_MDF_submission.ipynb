{
  "cells": [
    {
      "cell_type": "markdown",
      "metadata": {
        "id": "VmzUYbD8L-xO"
      },
      "source": [
        "# MDF Connect Submission Tutorial\n",
        "This notebook walks through publishing your data to MDF with MDF Connect. You can run this notebook locally as a Jupyter notebook or you can run it on Google Colab.\n",
        "\n",
        "First, we'll need to install MDF connect and import it."
      ]
    },
    {
      "cell_type": "code",
      "source": [
        "!pip install mdf-connect-client"
      ],
      "metadata": {
        "id": "-7EVVT9cNPMO"
      },
      "execution_count": null,
      "outputs": []
    },
    {
      "cell_type": "code",
      "execution_count": null,
      "metadata": {
        "id": "GR4UvisRL-xP"
      },
      "outputs": [],
      "source": [
        "from mdf_connect_client import MDFConnectClient"
      ]
    },
    {
      "cell_type": "markdown",
      "metadata": {
        "id": "RNk9prRGL-xQ"
      },
      "source": [
        "## Simple Example\n",
        "To get started, let's instantiate the client."
      ]
    },
    {
      "cell_type": "code",
      "execution_count": null,
      "metadata": {
        "id": "jkxXsQATL-xQ"
      },
      "outputs": [],
      "source": [
        "mdfcc = MDFConnectClient()"
      ]
    },
    {
      "cell_type": "markdown",
      "metadata": {
        "id": "_uDiLmeaL-xQ"
      },
      "source": [
        "### Creating the submission\n",
        "Then we set the required metadata (the DataCite block and the data location)."
      ]
    },
    {
      "cell_type": "code",
      "execution_count": null,
      "metadata": {
        "id": "Ag1JFkdeL-xQ"
      },
      "outputs": [],
      "source": [
        "# The DC block only requires a title and author.\n",
        "mdfcc.create_dc_block(title=\"Connect Sample Dataset\", authors=\"A. Person\")\n",
        "\n",
        "# The data field requires one data location.\n",
        "mdfcc.add_data_source(\"https://app.globus.org/file-manager?origin_id=e38ee745-6d04-11e5-ba46-22000b92c6ec&origin_path=%2Fcitrine_mdf_demo%2Falloy.pbe%2FAgAl%2F\")"
      ]
    },
    {
      "cell_type": "markdown",
      "source": [
        "Next we'll add some optional settings. The `mdf_publish` service will get us a publication and a DOI."
      ],
      "metadata": {
        "id": "Rg2kx8OPN-E8"
      }
    },
    {
      "cell_type": "code",
      "execution_count": null,
      "metadata": {
        "id": "i1w33XTtL-xR"
      },
      "outputs": [],
      "source": [
        "mdfcc.add_service(\"mdf_publish\")\n",
        "\n",
        "# Since this is just an example and not a real submission, we'll set the 'test' flag to True.\n",
        "# The DOI we will get with a test submission is a sandbox DOI, which is not permanent.\n",
        "mdfcc.set_test(True)"
      ]
    },
    {
      "cell_type": "markdown",
      "source": [
        "We can use `get_submission` to take a look at the submission."
      ],
      "metadata": {
        "id": "8qhh0VkeOZxX"
      }
    },
    {
      "cell_type": "code",
      "execution_count": null,
      "metadata": {
        "id": "0nC3yla-L-xR",
        "outputId": "2b972732-9119-4ffb-8c6a-d22bf03f67d5"
      },
      "outputs": [
        {
          "data": {
            "text/plain": [
              "{'dc': {'titles': [{'title': 'Connect Sample Dataset'}],\n",
              "  'creators': [{'creatorName': 'Person, A.',\n",
              "    'familyName': 'Person',\n",
              "    'givenName': 'A.'}],\n",
              "  'publisher': 'Materials Data Facility',\n",
              "  'publicationYear': '2020',\n",
              "  'resourceType': {'resourceTypeGeneral': 'Dataset',\n",
              "   'resourceType': 'Dataset'}},\n",
              " 'data_sources': ['https://app.globus.org/file-manager?origin_id=e38ee745-6d04-11e5-ba46-22000b92c6ec&origin_path=%2Fcitrine_mdf_demo%2Falloy.pbe%2FAgAl%2F'],\n",
              " 'test': True,\n",
              " 'update': False,\n",
              " 'services': {'mdf_publish': True}}"
            ]
          },
          "execution_count": 5,
          "metadata": {},
          "output_type": "execute_result"
        }
      ],
      "source": [
        "mdfcc.get_submission()"
      ]
    },
    {
      "cell_type": "markdown",
      "metadata": {
        "id": "jfIyotczL-xR"
      },
      "source": [
        "### Submitting the dataset\n",
        "We're ready to submit the dataset! You can submit with the line below."
      ]
    },
    {
      "cell_type": "code",
      "execution_count": null,
      "metadata": {
        "id": "9MvBx-bVL-xS",
        "outputId": "bb98feea-173b-4b85-ba4f-1647daa5c17f"
      },
      "outputs": [
        {
          "data": {
            "text/plain": [
              "{'source_id': '_test_person_connect_sample_v1.1',\n",
              " 'success': True,\n",
              " 'error': None,\n",
              " 'status_code': 202}"
            ]
          },
          "execution_count": 6,
          "metadata": {},
          "output_type": "execute_result"
        }
      ],
      "source": [
        "mdfcc.submit_dataset()"
      ]
    },
    {
      "cell_type": "markdown",
      "source": [
        "Once we've submitted, we can check the status."
      ],
      "metadata": {
        "id": "H5JL9RDoPGTF"
      }
    },
    {
      "cell_type": "code",
      "execution_count": null,
      "metadata": {
        "id": "GWpiSEOVL-xS",
        "outputId": "51ab1712-372c-4dc4-f31a-63deb4be017c"
      },
      "outputs": [
        {
          "name": "stdout",
          "output_type": "stream",
          "text": [
            "\n",
            "Status of TEST submission _test_person_connect_sample_v1.1 (Connect Sample Dataset)\n",
            "Submitted by Jonathon Gaff at 2020-01-14T16:40:37.823519Z\n",
            "\n",
            "Submission initialization was successful.\n",
            "Connect data download is in progress.\n",
            "Data transfer to primary destination has not started yet.\n",
            "Metadata extraction has not started yet.\n",
            "Dataset curation has not started yet.\n",
            "MDF Search ingestion has not started yet.\n",
            "Data transfer to secondary destinations has not started yet.\n",
            "MDF Publish publication has not started yet.\n",
            "Citrine upload has not started yet.\n",
            "Materials Resource Registration has not started yet.\n",
            "Post-processing cleanup has not started yet.\n",
            "\n",
            "This submission is still processing.\n",
            "\n"
          ]
        }
      ],
      "source": [
        "mdfcc.check_status()"
      ]
    },
    {
      "cell_type": "markdown",
      "source": [
        "### You did it!\n",
        "You've submitted your dataset to MDF. Keep checking back on the status to see when it's ready to share with others. "
      ],
      "metadata": {
        "id": "xARCPwNLPVJl"
      }
    },
    {
      "cell_type": "code",
      "execution_count": null,
      "metadata": {
        "id": "1mCHkdILL-xS"
      },
      "outputs": [],
      "source": []
    }
  ],
  "metadata": {
    "kernelspec": {
      "display_name": "Python 3",
      "language": "python",
      "name": "python3"
    },
    "language_info": {
      "codemirror_mode": {
        "name": "ipython",
        "version": 3
      },
      "file_extension": ".py",
      "mimetype": "text/x-python",
      "name": "python",
      "nbconvert_exporter": "python",
      "pygments_lexer": "ipython3",
      "version": "3.8.1"
    },
    "colab": {
      "provenance": []
    }
  },
  "nbformat": 4,
  "nbformat_minor": 0
}